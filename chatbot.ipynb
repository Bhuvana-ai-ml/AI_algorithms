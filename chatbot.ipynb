{
 "cells": [
  {
   "cell_type": "code",
   "execution_count": null,
   "id": "501790e9-ea3e-40d1-b001-7273045e2334",
   "metadata": {},
   "outputs": [
    {
     "name": "stdout",
     "output_type": "stream",
     "text": [
      "Chatbot: Hello! I am a more advanced chatbot. Type 'quit' to end the conversation.\n"
     ]
    },
    {
     "name": "stdin",
     "output_type": "stream",
     "text": [
      "You:  hi\n"
     ]
    },
    {
     "name": "stdout",
     "output_type": "stream",
     "text": [
      "Chatbot: Hey, how can I help?\n"
     ]
    },
    {
     "name": "stdin",
     "output_type": "stream",
     "text": [
      "You:  how are you\n"
     ]
    },
    {
     "name": "stdout",
     "output_type": "stream",
     "text": [
      "Chatbot: I'm good, thanks for asking!\n"
     ]
    }
   ],
   "source": [
    "import re\n",
    "import random\n",
    "responses = {\n",
    "    \"greeting\": [\"Hello!\", \"Hi there!\", \"Hey, how can I help?\"],\n",
    "    \"how_are_you\": [\"I'm good, thanks for asking!\", \"I'm doing well!\", \"I’m just a chatbot, but I’m fine.\"],\n",
    "    \"goodbye\": [\"Goodbye! Take care.\", \"See you later!\", \"Bye! Have a nice day.\"],\n",
    "    \"default\": [\"Sorry, I didn’t understand that.\", \"Can you say that differently?\", \"I'm not sure how to respond to that.\"]\n",
    "}\n",
    "\n",
    "def match_intent(user_input):\n",
    "    \"\"\"Match user's input to an intent (greeting, how are you, etc.)\"\"\"\n",
    "    user_input = user_input.lower()\n",
    "\n",
    "    if re.search(r'\\b(hello|hi|hey|morning|evening)\\b', user_input):\n",
    "        return \"greeting\"\n",
    "    elif re.search(r'\\b(how are you|how are you doing|what’s up)\\b', user_input):\n",
    "        return \"how_are_you\"\n",
    "    elif re.search(r'\\b(bye|goodbye|see you)\\b', user_input):\n",
    "        return \"goodbye\"\n",
    "    else:\n",
    "        return \"default\"\n",
    "\n",
    "def chatbot():\n",
    "    print(\"Chatbot: Hello! I am a more advanced chatbot. Type 'quit' to end the conversation.\")\n",
    "    \n",
    "    while True:\n",
    "        user_input = input(\"You: \")\n",
    "        if user_input.lower() == 'quit':\n",
    "            print(\"Chatbot: Goodbye! See you next time.\")\n",
    "            break\n",
    "        intent = match_intent(user_input)\n",
    "        if intent in responses:\n",
    "            print(f\"Chatbot: {random.choice(responses[intent])}\")\n",
    "chatbot()\n"
   ]
  },
  {
   "cell_type": "code",
   "execution_count": null,
   "id": "7e524550-3518-4a2b-8808-1d33a7e36b98",
   "metadata": {},
   "outputs": [],
   "source": []
  }
 ],
 "metadata": {
  "kernelspec": {
   "display_name": "Python 3 (ipykernel)",
   "language": "python",
   "name": "python3"
  },
  "language_info": {
   "codemirror_mode": {
    "name": "ipython",
    "version": 3
   },
   "file_extension": ".py",
   "mimetype": "text/x-python",
   "name": "python",
   "nbconvert_exporter": "python",
   "pygments_lexer": "ipython3",
   "version": "3.12.7"
  }
 },
 "nbformat": 4,
 "nbformat_minor": 5
}
